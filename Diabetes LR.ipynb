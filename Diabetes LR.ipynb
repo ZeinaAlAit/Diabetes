{
 "cells": [
  {
   "cell_type": "markdown",
   "id": "a814af31",
   "metadata": {},
   "source": [
    "#  Program to guess if diabetic or not using Linear Regression"
   ]
  },
  {
   "cell_type": "code",
   "execution_count": 17,
   "id": "38e4cce2",
   "metadata": {},
   "outputs": [],
   "source": [
    "#import libraries \n",
    "import pandas as pd \n",
    "from sklearn.model_selection import train_test_split \n",
    "from sklearn.preprocessing import StandardScaler\n",
    "from sklearn.linear_model import LinearRegression\n",
    "from sklearn.metrics import mean_squared_error, r2_score"
   ]
  },
  {
   "cell_type": "code",
   "execution_count": 18,
   "id": "6a90bb16",
   "metadata": {},
   "outputs": [],
   "source": [
    "url = 'https://raw.githubusercontent.com/jbrownlee/Datasets/master/pima-indians-diabetes.data.csv'\n",
    "names = ['pregnancies', 'glucose', 'blood_pressure', 'skin_thickness', 'insulin', 'bmi', 'pedi', 'age', 'class']\n",
    "dataset = pd.read_csv(url, names=names)"
   ]
  },
  {
   "cell_type": "code",
   "execution_count": 19,
   "id": "bbc7f8cf",
   "metadata": {},
   "outputs": [],
   "source": [
    "# Split the dataset into training and testing data\n",
    "X = dataset.drop('class', axis=1)\n",
    "y = dataset['class']\n",
    "X_train, X_test, y_train, y_test = train_test_split(X, y, test_size=0.3, random_state=1)\n",
    "\n",
    "# Standardize the data\n",
    "scaler = StandardScaler()\n",
    "X_train = scaler.fit_transform(X_train)\n",
    "X_test = scaler.transform(X_test)"
   ]
  },
  {
   "cell_type": "code",
   "execution_count": 20,
   "id": "8c9333f9",
   "metadata": {},
   "outputs": [
    {
     "data": {
      "text/plain": [
       "LinearRegression()"
      ]
     },
     "execution_count": 20,
     "metadata": {},
     "output_type": "execute_result"
    }
   ],
   "source": [
    "# Train the linear regression model\n",
    "model = LinearRegression()\n",
    "model.fit(X_train, y_train)"
   ]
  },
  {
   "cell_type": "code",
   "execution_count": 21,
   "id": "73b73408",
   "metadata": {},
   "outputs": [
    {
     "name": "stdout",
     "output_type": "stream",
     "text": [
      "MSE: 0.15201370790095273\n",
      "R^2: 0.3463655546089657\n"
     ]
    }
   ],
   "source": [
    "# Make predictions on the testing data\n",
    "y_pred = model.predict(X_test)\n",
    "\n",
    "# Evaluate the performance of the model\n",
    "mse = mean_squared_error(y_test, y_pred)\n",
    "r2 = r2_score(y_test, y_pred)\n",
    "print('MSE:', mse)\n",
    "print('R^2:', r2)"
   ]
  },
  {
   "cell_type": "code",
   "execution_count": 32,
   "id": "e6c4deda",
   "metadata": {},
   "outputs": [],
   "source": [
    "# Load the new data into a Pandas DataFrame\n",
    "new_data = pd.DataFrame({\n",
    "    'pregnancies': [4, 6, 8],\n",
    "    'glucose': [110, 150, 200],\n",
    "    'blood_pressure': [70, 80, 90],\n",
    "    'skin_thickness': [25, 30, 35],\n",
    "    'insulin': [50, 100, 200],\n",
    "    'bmi': [25.5, 30.1, 35.5],\n",
    "    'pedi': [0.5, 0.8, 1.0],\n",
    "    'age': [35, 40, 45],\n",
    "    'class':[0,1,1]\n",
    "})"
   ]
  },
  {
   "cell_type": "code",
   "execution_count": 31,
   "id": "613cfce0",
   "metadata": {
    "scrolled": true
   },
   "outputs": [
    {
     "name": "stdout",
     "output_type": "stream",
     "text": [
      "[0.21439829 0.57902078 0.98969075]\n"
     ]
    }
   ],
   "source": [
    "# Separate the input features (predictors) and the output variable (target)\n",
    "X_new = new_data.drop('class', axis=1)\n",
    "y_new = new_data['class']\n",
    "\n",
    "# Load the trained model from earlier\n",
    "model = LinearRegression()\n",
    "model.fit(X, y)\n",
    "\n",
    "# Use the model to make predictions on the new data\n",
    "predictions = model.predict(X_new)\n",
    "\n",
    "# Print the predictions\n",
    "print(predictions)"
   ]
  },
  {
   "cell_type": "code",
   "execution_count": null,
   "id": "f214e233",
   "metadata": {},
   "outputs": [],
   "source": []
  }
 ],
 "metadata": {
  "kernelspec": {
   "display_name": "Python 3 (ipykernel)",
   "language": "python",
   "name": "python3"
  },
  "language_info": {
   "codemirror_mode": {
    "name": "ipython",
    "version": 3
   },
   "file_extension": ".py",
   "mimetype": "text/x-python",
   "name": "python",
   "nbconvert_exporter": "python",
   "pygments_lexer": "ipython3",
   "version": "3.9.12"
  }
 },
 "nbformat": 4,
 "nbformat_minor": 5
}
